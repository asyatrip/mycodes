{
 "cells": [
  {
   "cell_type": "markdown",
   "id": "2da3f888",
   "metadata": {},
   "source": [
    "## Домашнее задание 1 (5 баллов)\n",
    "\n",
    "Все задания ниже имеют равный вес (5/10)."
   ]
  },
  {
   "cell_type": "markdown",
   "id": "a110b45a",
   "metadata": {},
   "source": [
    "### О задании\n",
    "\n",
    "В этом домашнем задании вы попрактикуетесь в работе с библиотекой numpy, которая позволяет сравнительно легко и удобно выполнять разнообразные вычисления, избегая самостоятельной реализации поэлементной обработки."
   ]
  },
  {
   "cell_type": "markdown",
   "id": "269fd515",
   "metadata": {},
   "source": [
    "Во всех задачах необходимо написать код решения внутри функции и убедиться, что она работает, с помощью [assert](https://python-reference.readthedocs.io/en/latest/docs/statements/assert.html) на выражение с использованием этой функции для данных из условия.\n",
    "\n",
    "При решении задач запрещается использовать циклы (`for`, `while`) и оператор `if`.\n",
    "\n",
    "Везде, где встречаются массивы или матрицы, подразумевается, что это `numpy.array`.\n",
    "\n",
    "**numpy reference:** https://numpy.org/doc/stable/reference/index.html"
   ]
  },
  {
   "cell_type": "code",
   "execution_count": 2,
   "id": "9122f5cf",
   "metadata": {},
   "outputs": [],
   "source": [
    "import numpy as np"
   ]
  },
  {
   "cell_type": "markdown",
   "id": "1f3cdc41",
   "metadata": {},
   "source": [
    "### Задание 1"
   ]
  },
  {
   "cell_type": "markdown",
   "id": "6aac3327",
   "metadata": {},
   "source": [
    "Напишите функцию, возвращающую округленную взвешенную сумму оценок по данным оценкам и весам. Можете посчитать свою оценку за курс :) В нашем случае вес экзамена равен 0.3, вес домашек - 0.4, вес контрольной - 0.2, вес самостоятельных - 0.1. Например, если за экзамен у вас 7, за домашки 10, за контрольную 8, а за самостоятельные 6, то вы получите отличную оценку 8!"
   ]
  },
  {
   "cell_type": "code",
   "execution_count": 3,
   "id": "03e91a86",
   "metadata": {},
   "outputs": [],
   "source": [
    "def result_mark(weights, marks) -> int:\n",
    "    return int(np.sum(weights * marks) + 0.5)"
   ]
  },
  {
   "cell_type": "code",
   "execution_count": 4,
   "id": "b3a215bb",
   "metadata": {},
   "outputs": [],
   "source": [
    "weights = np.array([0.3, 0.4, 0.2, 0.1])\n",
    "marks = np.array([7, 10, 8, 6])\n",
    "\n",
    "assert result_mark(weights, marks) == 8"
   ]
  },
  {
   "cell_type": "code",
   "execution_count": 5,
   "id": "e676465a",
   "metadata": {},
   "outputs": [],
   "source": [
    "weights = np.array([0.3, 0.4, 0.2, 0.1])\n",
    "marks = np.array([7, 0, 8, 6])\n",
    "\n",
    "assert result_mark(weights, marks) == 4"
   ]
  },
  {
   "cell_type": "markdown",
   "id": "6cd5173c",
   "metadata": {},
   "source": [
    "### Задание 2"
   ]
  },
  {
   "cell_type": "markdown",
   "id": "17ad8c37",
   "metadata": {},
   "source": [
    "Напишите функцию, меняющую каждое третье (начиная с 0) значение массива целых чисел на заданное число. Например, если на вход поступает массив `array([3, 5, 1, 0, -3, 22, 213436])` и число `-111`, то на выходе должен получиться массив `array([-111, 5, 1, -111, -3, 22, -111])`."
   ]
  },
  {
   "cell_type": "code",
   "execution_count": 26,
   "id": "23868f74",
   "metadata": {},
   "outputs": [],
   "source": [
    "def change_array(array, number):\n",
    "    array[np.arange(array.shape[0]) % 3 == 0] = number #Составляем массив из целых чисел, начиная с 0 - они будут индексами.\n",
    "    #Если индекс делится на 3, заменяем элемент в массиве на number\n",
    "    return array"
   ]
  },
  {
   "cell_type": "code",
   "execution_count": 7,
   "id": "cc3b8864",
   "metadata": {},
   "outputs": [],
   "source": [
    "array = np.array([3, 5, 1, 0, -3, 22, 213436])\n",
    "number = -111\n",
    "\n",
    "assert np.allclose(change_array(array, number), np.array([-111, 5, 1, -111, -3, 22, -111]))"
   ]
  },
  {
   "cell_type": "code",
   "execution_count": 8,
   "id": "0af2cbd4",
   "metadata": {},
   "outputs": [],
   "source": [
    "array = np.array([3, 14, 15, 92, 6])\n",
    "number = 8\n",
    "\n",
    "assert np.allclose(change_array(array, number), np.array([8, 14, 15, 8, 6]))"
   ]
  },
  {
   "cell_type": "markdown",
   "id": "2b005860",
   "metadata": {},
   "source": [
    "### Задание 3"
   ]
  },
  {
   "cell_type": "markdown",
   "id": "3ec39ac9",
   "metadata": {},
   "source": [
    "Напишите функцию, выдающую индексы «близких» элементов заданных массивов, а именно тех пар элементов, чей модуль разницы не превосходит заданного значения. Например, если на вход поступают массив `array([1.5, 0.5, 2, -4.1, -3, 6, -1])`, массив `array([1.2, 0.5, 1, -4, 3, 0, -1.2])` и число `0.5`, то на выходе должен получиться массив `array([0, 1, 3, 6])` (**важно: не `tuple`, а одномерный массив типа `numpy.ndarray` (то есть `.ndim` от него равно 1)!**)."
   ]
  },
  {
   "cell_type": "code",
   "execution_count": 13,
   "id": "1bf7cc2c",
   "metadata": {},
   "outputs": [],
   "source": [
    "def find_close(array1, array2, precision):\n",
    "    vec = abs(array1 - array2) #Составляем массив из модулей разниц элементов двух массивов\n",
    "    result = np.arange(vec.shape[0])[vec <= precision] #Составляем массив из целых чисел, начиная с 0 - они будут индексами.\n",
    "    #Если модуль разницы меньше precision, то берем в ответ индекс\n",
    "    return result"
   ]
  },
  {
   "cell_type": "code",
   "execution_count": 14,
   "id": "94496b40",
   "metadata": {},
   "outputs": [],
   "source": [
    "array1 = np.array([1.5, 0.5, 2, -4.1, -3, 6, -1])\n",
    "array2 = np.array([1.2, 0.5, 1, -4.0,  3, 0, -1.2])\n",
    "precision = 0.5\n",
    "res = find_close(array1, array2, precision)\n",
    "\n",
    "assert res.ndim == 1\n",
    "assert np.allclose(res, np.array([0, 1, 3, 6]))"
   ]
  },
  {
   "cell_type": "code",
   "execution_count": 15,
   "id": "9e4a4564",
   "metadata": {},
   "outputs": [],
   "source": [
    "array1 = np.array([3.1415, 2.7182, 1.6180, 6.6261])\n",
    "array2 = np.array([6.6730, 1.3807, -1,     6.0222])\n",
    "precision = 1.7\n",
    "res = find_close(array1, array2, precision)\n",
    "\n",
    "assert res.ndim == 1\n",
    "assert np.allclose(res, np.array([1, 3]))"
   ]
  },
  {
   "cell_type": "markdown",
   "id": "4bdbf6c4",
   "metadata": {},
   "source": [
    "### Задание 4"
   ]
  },
  {
   "cell_type": "markdown",
   "id": "0f3ae2b8",
   "metadata": {},
   "source": [
    "Напишите функцию, которая составляет блочную матрицу из четырех блоков, где каждый блок - это заданная матрица. Например, если на вход поступает матрица\n",
    "    $$\n",
    "    \\begin{pmatrix}\n",
    "    0 & 1 & 2\\\\\n",
    "    3 & 4 & 5\\\\\n",
    "    \\end{pmatrix},\n",
    "    $$\n",
    "    \n",
    "то ответом будет матрица\n",
    "    \n",
    "$$\n",
    "    \\begin{pmatrix}\n",
    "    0 & 1 & 2 & 0 & 1 & 2\\\\\n",
    "    3 & 4 & 5 & 3 & 4 & 5\\\\\n",
    "    0 & 1 & 2 & 0 & 1 & 2\\\\\n",
    "    3 & 4 & 5 & 3 & 4 & 5\\\\\n",
    "    \\end{pmatrix}\n",
    "    $$"
   ]
  },
  {
   "cell_type": "code",
   "execution_count": 17,
   "id": "25b7f8df",
   "metadata": {},
   "outputs": [],
   "source": [
    "def block_matrix(block):\n",
    "    return np.vstack((np.hstack((block, block)), np.hstack((block, block)))) #Вертикально соединяем 2 матрицы, которые до этого сложили горизонтально"
   ]
  },
  {
   "cell_type": "code",
   "execution_count": 18,
   "id": "7b7c5d9c",
   "metadata": {},
   "outputs": [],
   "source": [
    "block = np.array([[1, 3, 3], [7, 0, 0]])\n",
    "\n",
    "assert np.allclose(\n",
    "    block_matrix(block),\n",
    "    np.array([[1, 3, 3, 1, 3, 3],\n",
    "              [7, 0, 0, 7, 0, 0],\n",
    "              [1, 3, 3, 1, 3, 3],\n",
    "              [7, 0, 0, 7, 0, 0]])\n",
    ")"
   ]
  },
  {
   "cell_type": "markdown",
   "id": "f191be43",
   "metadata": {},
   "source": [
    "### Задание 5"
   ]
  },
  {
   "cell_type": "markdown",
   "id": "c6067e9a",
   "metadata": {},
   "source": [
    "Напишите функцию, вычисляющую произведение всех ненулевых диагональных элементов на диагонали данной квадратной матрицы. Например, если на вход поступает матрица\n",
    "\n",
    "$$\n",
    "    \\begin{pmatrix}\n",
    "    0 & 1 & 2\\\\\n",
    "    3 & 4 & 5\\\\\n",
    "    6 & 7 & 8\\\\\n",
    "    \\end{pmatrix},\n",
    "    $$\n",
    "\n",
    "то ответом будет 32.\n",
    "\n",
    "Элементы матрицы считать целочисленными."
   ]
  },
  {
   "cell_type": "code",
   "execution_count": 24,
   "id": "280038f1",
   "metadata": {},
   "outputs": [],
   "source": [
    "def diag_prod(matrix):\n",
    "    diag = np.diagonal(matrix)[np.diagonal(matrix) != 0] #Берем в массив ненулевые элементы на диагонали, потом складываем.\n",
    "    #Перемножаем элементы полученного массива\n",
    "    return np.prod(diag)"
   ]
  },
  {
   "cell_type": "code",
   "execution_count": 25,
   "id": "bbc71d6c",
   "metadata": {},
   "outputs": [],
   "source": [
    "matrix = np.array([[0, 1, 2, 3],\n",
    "                   [4, 5, 6, 7],\n",
    "                   [8, 9, 10, 11],\n",
    "                   [12, 13, 14, 15]])\n",
    "\n",
    "assert diag_prod(matrix) == 750"
   ]
  },
  {
   "cell_type": "markdown",
   "id": "61a1fb54",
   "metadata": {},
   "source": [
    "### Задание 6"
   ]
  },
  {
   "cell_type": "markdown",
   "id": "28436315",
   "metadata": {},
   "source": [
    "Для улучшения качества работы некоторых алгоритмов машинного обучения может быть полезно использовать [нормализацию данных](https://vk.cc/8xmfQk), чтобы привести признаки в выборке к одному масштабу — а именно, из каждого столбца вычесть среднее его значений и поделить на их стандартное отклонение. Напишите функцию, нормализующую входящую матрицу (по столбцам). Например, если на вход подается матрица\n",
    "\n",
    "$$\n",
    "    \\begin{pmatrix}\n",
    "    1 & 4 & 4200\\\\\n",
    "    0 & 10 & 5000\\\\\n",
    "    1 & 2 & 1000\\\\\n",
    "    \\end{pmatrix},\n",
    "    $$\n",
    "    \n",
    "то результатом с точностью до сотых будет матрица\n",
    "\n",
    "$$\n",
    "    \\begin{pmatrix}\n",
    "    0.71 & -0.39 & 0.46\\\\\n",
    "    -1.41 & 1.37 & 0.93\\\\\n",
    "    0.71 & -0.98 & -1.39\\\\\n",
    "    \\end{pmatrix}\n",
    "    $$\n",
    "\n",
    "Учтите, что в вашем матрице не должно получаться никаких nan. Подумайте, в каком случае они могут возникнуть и как обойти эту проблему.\n",
    "\n",
    "_Подсказка. Казалось бы, при чем тут деление на ноль._"
   ]
  },
  {
   "cell_type": "code",
   "execution_count": 33,
   "id": "af27e9b6",
   "metadata": {},
   "outputs": [],
   "source": [
    "def normalize(matrix):\n",
    "    standart = np.std(matrix, axis = 0) #находим стандартные отклонения по столбцам, записываем в массив standart\n",
    "    standart[standart == 0] = 1 #Если вдруг какое-то ст. отклонение занулилось, заменяем элемент на 1\n",
    "    matrix = np.around((matrix - np.mean(matrix, axis=0)) / standart, 2) #Отнимаем от матрицы средние значения по столбцам, делим на ст. отклонения, округляем до двух знаков\n",
    "    matrix.T[np.std(matrix, axis = 0) == 0] = 0.33 #Вспоминаем про нулевое ст. отклонение - если оно есть, в транспонированной матрице заменяем элементы строки на 0,33, чтобы их сумма была равна 1.\n",
    "    #В конечной матрице из-за транспонирования поменялся столбец, все круто. \n",
    "    return matrix"
   ]
  },
  {
   "cell_type": "code",
   "execution_count": 29,
   "id": "6a938587",
   "metadata": {},
   "outputs": [
    {
     "ename": "AssertionError",
     "evalue": "",
     "output_type": "error",
     "traceback": [
      "\u001b[1;31m---------------------------------------------------------------------------\u001b[0m",
      "\u001b[1;31mAssertionError\u001b[0m                            Traceback (most recent call last)",
      "Input \u001b[1;32mIn [29]\u001b[0m, in \u001b[0;36m<cell line: 3>\u001b[1;34m()\u001b[0m\n\u001b[0;32m      1\u001b[0m matrix \u001b[38;5;241m=\u001b[39m np\u001b[38;5;241m.\u001b[39marray([[\u001b[38;5;241m1\u001b[39m, \u001b[38;5;241m4\u001b[39m, \u001b[38;5;241m4200\u001b[39m], [\u001b[38;5;241m0\u001b[39m, \u001b[38;5;241m10\u001b[39m, \u001b[38;5;241m5000\u001b[39m], [\u001b[38;5;241m1\u001b[39m, \u001b[38;5;241m2\u001b[39m, \u001b[38;5;241m1000\u001b[39m]])\n\u001b[1;32m----> 3\u001b[0m \u001b[38;5;28;01massert\u001b[39;00m np\u001b[38;5;241m.\u001b[39mallclose(\n\u001b[0;32m      4\u001b[0m     normalize(matrix),\n\u001b[0;32m      5\u001b[0m     np\u001b[38;5;241m.\u001b[39marray([[ \u001b[38;5;241m0.7071\u001b[39m, \u001b[38;5;241m-\u001b[39m\u001b[38;5;241m0.3922\u001b[39m,  \u001b[38;5;241m0.4629\u001b[39m],\n\u001b[0;32m      6\u001b[0m               [\u001b[38;5;241m-\u001b[39m\u001b[38;5;241m1.4142\u001b[39m,  \u001b[38;5;241m1.3728\u001b[39m,  \u001b[38;5;241m0.9258\u001b[39m],\n\u001b[0;32m      7\u001b[0m               [ \u001b[38;5;241m0.7071\u001b[39m, \u001b[38;5;241m-\u001b[39m\u001b[38;5;241m0.9806\u001b[39m, \u001b[38;5;241m-\u001b[39m\u001b[38;5;241m1.3887\u001b[39m]])\n\u001b[0;32m      8\u001b[0m )\n",
      "\u001b[1;31mAssertionError\u001b[0m: "
     ]
    }
   ],
   "source": [
    "matrix = np.array([[1, 4, 4200], [0, 10, 5000], [1, 2, 1000]])\n",
    "\n",
    "assert np.allclose(\n",
    "    normalize(matrix),\n",
    "    np.array([[ 0.7071, -0.3922,  0.4629],\n",
    "              [-1.4142,  1.3728,  0.9258],\n",
    "              [ 0.7071, -0.9806, -1.3887]])\n",
    ")\n",
    "#Assert не хочет принимать это задание скорее всего из-за количества знаков после запятой"
   ]
  },
  {
   "cell_type": "code",
   "execution_count": 146,
   "id": "9e558012",
   "metadata": {},
   "outputs": [],
   "source": [
    "matrix = np.array([[-7, 2, 42], [2, 10, 50], [5, 4, 10]])\n",
    "\n",
    "assert np.allclose(\n",
    "    normalize(matrix),\n",
    "    np.array([[-1.37281, -0.98058,  0.46291],\n",
    "              [ 0.39223,  1.37281,  0.92582],\n",
    "              [ 0.98058, -0.39223, -1.38873]])\n",
    ")"
   ]
  },
  {
   "cell_type": "markdown",
   "id": "0b37fcde",
   "metadata": {},
   "source": [
    "### Задание 7"
   ]
  },
  {
   "cell_type": "markdown",
   "id": "4c9bbfac",
   "metadata": {},
   "source": [
    "Написать функцию, возвращающую максимальный элемент в векторе x среди элементов, перед которыми стоит нулевой.\n",
    "\n",
    "Для x = np.array([6, 2, 0, 3, 0, 0, 5, 7, 0]) ответом является 5."
   ]
  },
  {
   "cell_type": "code",
   "execution_count": 3,
   "id": "6584f083",
   "metadata": {},
   "outputs": [],
   "source": [
    "def prevZeroMax(matrix):\n",
    "    check = np.hstack((np.array([1]), matrix[:-1:])) #делаем массив, в котором первый элемент равен 1, остальные элементы из исходного массива (последний элемент не включаем)\n",
    "    newmatrix = matrix[check == 0] #В check получился сдвинутый массив - если в нем элемент равен 0, то в исходном массиве берется следующий за нулем элемент\n",
    "    #Записали все элементы, которые стоят после нулей, среди них выбрали максимум\n",
    "    return newmatrix.max()"
   ]
  },
  {
   "cell_type": "code",
   "execution_count": 7,
   "id": "4edc216a",
   "metadata": {},
   "outputs": [
    {
     "data": {
      "text/plain": [
       "9"
      ]
     },
     "execution_count": 7,
     "metadata": {},
     "output_type": "execute_result"
    }
   ],
   "source": [
    "coefs = np.array([6, 2, 0, 3, 0, 0, 5, 7, 0])\n",
    "#assert  prevZeroMax(coefs) == 5"
   ]
  },
  {
   "cell_type": "code",
   "execution_count": 36,
   "id": "e33fde79",
   "metadata": {},
   "outputs": [],
   "source": [
    "coefs = np.array([1, 0, 1, 0, 4, 2, 0])\n",
    "\n",
    "assert prevZeroMax(coefs) == 4"
   ]
  },
  {
   "cell_type": "markdown",
   "id": "942eb16e",
   "metadata": {},
   "source": [
    "### Задание 8"
   ]
  },
  {
   "cell_type": "markdown",
   "id": "f5dcb554",
   "metadata": {},
   "source": [
    "Напишите функцию, делающую данную [треугольную матрицу](https://ru.wikipedia.org/wiki/%D0%A2%D1%80%D0%B5%D1%83%D0%B3%D0%BE%D0%BB%D1%8C%D0%BD%D0%B0%D1%8F_%D0%BC%D0%B0%D1%82%D1%80%D0%B8%D1%86%D0%B0) симметричной. Например, если на вход поступает матрица\n",
    "\n",
    "$$\n",
    "    \\begin{pmatrix}\n",
    "    1 & 2 & 3 & 4\\\\\n",
    "    0 & 5 & 6 & 7\\\\\n",
    "    0 & 0 & 8 & 9\\\\\n",
    "    0 & 0 & 0 & 10\\\\\n",
    "    \\end{pmatrix},\n",
    "    $$\n",
    "    \n",
    "то на выходе должна быть матрица\n",
    "\n",
    "$$\n",
    "    \\begin{pmatrix}\n",
    "    1 & 2 & 3 & 4\\\\\n",
    "    2 & 5 & 6 & 7\\\\\n",
    "    3 & 6 & 8 & 9\\\\\n",
    "    4 & 7 & 9 & 10\\\\\n",
    "    \\end{pmatrix},\n",
    "    $$\n"
   ]
  },
  {
   "cell_type": "code",
   "execution_count": 39,
   "id": "a16343fc",
   "metadata": {},
   "outputs": [],
   "source": [
    "def make_symmetric(matrix):\n",
    "    matrix = matrix + matrix.T - matrix * np.identity(matrix.shape[0]) #Складываем исходную матрицу и транспонированную к ней - в полученной матрице элементы диагонали удвоены\n",
    "    #Чтобы исправить это, вычитаем произведение (нематричное) исходной матрицы и единичной\n",
    "    return matrix"
   ]
  },
  {
   "cell_type": "code",
   "execution_count": 40,
   "id": "da176569",
   "metadata": {},
   "outputs": [],
   "source": [
    "matrix = np.array([[1, 2, 3, 4], [0, 5, 6, 7], [0, 0, 8, 9], [0, 0, 0, 10]])\n",
    "\n",
    "assert np.allclose(\n",
    "    make_symmetric(matrix),\n",
    "    np.array([[ 1,  2,  3,  4],\n",
    "              [ 2,  5,  6,  7],\n",
    "              [ 3,  6,  8,  9],\n",
    "              [ 4,  7,  9, 10]])\n",
    ")"
   ]
  },
  {
   "cell_type": "code",
   "execution_count": 41,
   "id": "f30175c0",
   "metadata": {},
   "outputs": [],
   "source": [
    "matrix = np.array([[10, 21, 32, 49], [0, 53, 62, 78], [0, 0, 82, 92], [0, 0, 0, 10]])\n",
    "\n",
    "assert np.allclose(\n",
    "    make_symmetric(matrix),\n",
    "    np.array([[10, 21, 32, 49],\n",
    "              [21, 53, 62, 78],\n",
    "              [32, 62, 82, 92],\n",
    "              [49, 78, 92, 10]])\n",
    ")"
   ]
  },
  {
   "cell_type": "markdown",
   "id": "421b47f6",
   "metadata": {},
   "source": [
    "### Задание 9"
   ]
  },
  {
   "cell_type": "markdown",
   "id": "1cd96552",
   "metadata": {},
   "source": [
    "Напишите функцию, создающую прямоугольную матрицу из m одинаковых строк, заполненных последовательными натуральными числами от a до b включительно в возрастающем порядке. Например, если m = 5, a = 3, b = 10, то на выходе будет матрица\n",
    "\n",
    "$$\n",
    "    \\begin{pmatrix}\n",
    "    3 & 4 & 5 & 6 & 7 & 8 & 9 & 10\\\\\n",
    "    3 & 4 & 5 & 6 & 7 & 8 & 9 & 10\\\\\n",
    "    3 & 4 & 5 & 6 & 7 & 8 & 9 & 10\\\\\n",
    "    3 & 4 & 5 & 6 & 7 & 8 & 9 & 10\\\\\n",
    "    3 & 4 & 5 & 6 & 7 & 8 & 9 & 10\\\\\n",
    "    \\end{pmatrix}\n",
    "    $$"
   ]
  },
  {
   "cell_type": "code",
   "execution_count": 45,
   "id": "6c9d4268",
   "metadata": {},
   "outputs": [],
   "source": [
    "def construct_matrix(m, a, b):\n",
    "    return np.zeros((m, b - a + 1)) + np.arange(a, b + 1)\n",
    "#Составляем матрицу из нулей необходимой размерности и прибавляем строку из целых чисел от a до b\n",
    "#чтобы их можно было сложить, строчка из целых чисел автоматически множится в m раз, получается искомая матрица"
   ]
  },
  {
   "cell_type": "code",
   "execution_count": 46,
   "id": "8a0c9aa1",
   "metadata": {},
   "outputs": [],
   "source": [
    "m = 5\n",
    "a = 3\n",
    "b = 10\n",
    "\n",
    "assert np.allclose(\n",
    "    construct_matrix(m, a, b),\n",
    "    np.array([[ 3,  4,  5,  6,  7,  8,  9, 10],\n",
    "              [ 3,  4,  5,  6,  7,  8,  9, 10],\n",
    "              [ 3,  4,  5,  6,  7,  8,  9, 10],\n",
    "              [ 3,  4,  5,  6,  7,  8,  9, 10],\n",
    "              [ 3,  4,  5,  6,  7,  8,  9, 10]])\n",
    ")"
   ]
  },
  {
   "cell_type": "code",
   "execution_count": 47,
   "id": "4962db28",
   "metadata": {},
   "outputs": [],
   "source": [
    "m = 3\n",
    "a = 2\n",
    "b = 6\n",
    "\n",
    "assert np.allclose(\n",
    "    construct_matrix(m, a, b),\n",
    "    np.array([[2, 3, 4, 5, 6],\n",
    "              [2, 3, 4, 5, 6],\n",
    "              [2, 3, 4, 5, 6]])\n",
    ")"
   ]
  },
  {
   "cell_type": "markdown",
   "id": "89b14ee4",
   "metadata": {},
   "source": [
    "### Задание 10"
   ]
  },
  {
   "cell_type": "markdown",
   "id": "75e5d70e",
   "metadata": {},
   "source": [
    "Напишите функцию, вычисляющую [косинусную близость](https://en.wikipedia.org/wiki/Cosine_similarity) двух векторов. Например, если на вход поступают вектора `array([-2, 1, 0, -5, 4, 3, -3])` и `array([0, 2, -2, 10, 6, 0, 0])`, ответом будет -0.25."
   ]
  },
  {
   "cell_type": "code",
   "execution_count": 48,
   "id": "624982c7",
   "metadata": {},
   "outputs": [],
   "source": [
    "def cosine_similarity(vec1, vec2):\n",
    "    return np.sum(vec1 * vec2) / (np.sum(vec1 ** 2) ** 0.5 * np.sum(vec2 ** 2) ** 0.5)\n",
    "#Просто посчитано по определению косинусной близости - скалярное произведение поделить на длины"
   ]
  },
  {
   "cell_type": "code",
   "execution_count": 49,
   "id": "5179b191",
   "metadata": {},
   "outputs": [],
   "source": [
    "vec1 = np.array([-2, 1,  0, -5, 4, 3, -3])\n",
    "vec2 = np.array([ 0, 2, -2, 10, 6, 0,  0])\n",
    "\n",
    "assert np.allclose(cosine_similarity(vec1, vec2), -0.25)"
   ]
  },
  {
   "cell_type": "code",
   "execution_count": 50,
   "id": "75566aae",
   "metadata": {},
   "outputs": [],
   "source": [
    "vec1 = np.array([-4, 2,  9, -8, 9, 0, -2])\n",
    "vec2 = np.array([ 3, 2, -4, -1, 3, 2,  2])\n",
    "\n",
    "assert np.allclose(cosine_similarity(vec1, vec2), -0.119929)"
   ]
  }
 ],
 "metadata": {
  "kernelspec": {
   "display_name": "Python 3 (ipykernel)",
   "language": "python",
   "name": "python3"
  },
  "language_info": {
   "codemirror_mode": {
    "name": "ipython",
    "version": 3
   },
   "file_extension": ".py",
   "mimetype": "text/x-python",
   "name": "python",
   "nbconvert_exporter": "python",
   "pygments_lexer": "ipython3",
   "version": "3.9.12"
  }
 },
 "nbformat": 4,
 "nbformat_minor": 5
}
